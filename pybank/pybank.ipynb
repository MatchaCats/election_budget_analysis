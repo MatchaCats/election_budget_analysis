{
 "cells": [
  {
   "cell_type": "code",
   "execution_count": 206,
   "id": "30baf903-b9ac-4b0a-9545-49dd92ee1e12",
   "metadata": {},
   "outputs": [
    {
     "name": "stdout",
     "output_type": "stream",
     "text": [
      "Financial Analysis\n",
      "---------------------------------------\n",
      "Total Number of Months: 85\n",
      "Net Total: $22564198\n",
      "Average Change: $-8311.11\n",
      "Greatest Increase in Profits $1862002\n",
      "Greatest Decrease in Profits $-1825558\n"
     ]
    }
   ],
   "source": [
    "\n",
    "##Import and Export\n",
    "\n",
    "import csv\n",
    "import os\n",
    "\n",
    "budget_csv = os.path.join(\".\", \"resources\", \"budget_data.csv\")\n",
    "\n",
    "analysis_output = os.path.join(\".\", \"budget_analysis.txt\")\n",
    "\n",
    "\n",
    "##Reading the csv file\n",
    "#with open(budget_csv, 'r') as csv_file:\n",
    "with open(budget_csv) as csv_file:\n",
    "\n",
    "    #Starting point for the counters\n",
    "    total_months = 0 \n",
    "    net_total = 0\n",
    "\n",
    "    net_change_list = []\n",
    "    \n",
    "    csvreader = csv.reader(csv_file)\n",
    "    \n",
    "    ##Reading the header\n",
    "    header = next(csvreader)\n",
    "    \n",
    "    row_one = next(csvreader)\n",
    "    #print(int(row_one[1]))\n",
    "\n",
    "    ##Establishing where net_total starts\n",
    "    net_total += int(row_one[1])\n",
    "    #print(net_total)\n",
    "    last_net = int(row_one[1])\n",
    "   \n",
    "    \n",
    "    #print(f\"header: {header}\")\n",
    " \n",
    "    for row in csvreader:\n",
    "        \n",
    "        total_months += 1 \n",
    "        net_total += int(row[1])\n",
    "        #print(row)\n",
    "    \n",
    "        ##Average Change in Profits\n",
    "       \n",
    "        net_change = int(row[1]) - last_net\n",
    "        last_net = int(row[1])\n",
    "        net_change_list.append(net_change)\n",
    "    \n",
    "  \n",
    "##Greatest Increase in Profits  \n",
    "greatest_increase = str(max(net_change_list))\n",
    "#print(greatest_increase)\n",
    "\n",
    "##Greatest Decrease in Profits\n",
    "\n",
    "greatest_decrease = str(min(net_change_list))\n",
    "#print(greatest_decrease)\n",
    "\n",
    "#print(net_change_list)\n",
    "net_monthly_average = sum(net_change_list)/ len(net_change_list)\n",
    "\n",
    "\n",
    "##Final Output\n",
    "financial_analysis = (f\"Financial Analysis\\n\"\n",
    "f\"---------------------------------------\\n\"                      \n",
    "f\"Total Number of Months: {total_months}\\n\"\n",
    "f\"Net Total: ${net_total}\\n\"\n",
    "f\"Average Change: ${net_monthly_average:.2f}\\n\"\n",
    "f\"Greatest Increase in Profits ${greatest_increase}\\n\"\n",
    "f\"Greatest Decrease in Profits ${greatest_decrease}\")\n",
    "print(financial_analysis)\n",
    "                                                                                  "
   ]
  },
  {
   "cell_type": "code",
   "execution_count": null,
   "id": "2608f796-9e87-41a0-b45e-2eb25377f1f1",
   "metadata": {},
   "outputs": [],
   "source": []
  }
 ],
 "metadata": {
  "kernelspec": {
   "display_name": "Python 3 (ipykernel)",
   "language": "python",
   "name": "python3"
  },
  "language_info": {
   "codemirror_mode": {
    "name": "ipython",
    "version": 3
   },
   "file_extension": ".py",
   "mimetype": "text/x-python",
   "name": "python",
   "nbconvert_exporter": "python",
   "pygments_lexer": "ipython3",
   "version": "3.11.7"
  }
 },
 "nbformat": 4,
 "nbformat_minor": 5
}

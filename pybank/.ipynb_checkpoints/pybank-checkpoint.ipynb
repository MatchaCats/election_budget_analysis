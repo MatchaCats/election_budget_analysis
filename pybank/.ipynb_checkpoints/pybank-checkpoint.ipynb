{
 "cells": [
  {
   "cell_type": "code",
   "execution_count": 136,
   "id": "30baf903-b9ac-4b0a-9545-49dd92ee1e12",
   "metadata": {},
   "outputs": [
    {
     "name": "stdout",
     "output_type": "stream",
     "text": [
      "header: ['Date', 'Profit/Losses']\n",
      "Financial Analysis\n",
      "---------------------------------------\n",
      "Total Number of Months: 85\n",
      "Net Total: $22564198\n",
      "\n"
     ]
    }
   ],
   "source": [
    "\n",
    "# Import and Export\n",
    "\n",
    "import csv\n",
    "import os\n",
    "\n",
    "budget_csv = os.path.join(\".\", \"resources\", \"budget_data.csv\")\n",
    "\n",
    "analysis_output = os.path.join(\".\", \"budget_analysis.txt\")\n",
    "\n",
    "\n",
    "# Reading the csv file\n",
    "#with open(budget_csv, 'r') as csv_file:\n",
    "with open(budget_csv) as csv_file:\n",
    "    \n",
    "    total_months = 0 \n",
    "    net_total = 0\n",
    "    \n",
    "    csvreader = csv.reader(csv_file)\n",
    "    \n",
    "    # Reading the header\n",
    "    header = next(csvreader)\n",
    "    \n",
    "    row_one = next(csvreader)\n",
    "    #print(int(row_one[1]))\n",
    "\n",
    "    #Establishing where net_total starts\n",
    "    net_total += int(row_one[1])\n",
    "    #print(net_total)\n",
    "    \n",
    "    print(f\"header: {header}\")\n",
    " \n",
    "    for row in csvreader:\n",
    "        \n",
    "        total_months += 1\n",
    "        net_total += int(row[1])\n",
    "        #print(row)\n",
    "    \n",
    "\n",
    "\n",
    "\n",
    "# Final Output\n",
    "financial_analysis = (f\"Financial Analysis\\n\"\n",
    "f\"---------------------------------------\\n\"                      \n",
    "f\"Total Number of Months: {total_months}\\n\"\n",
    "f\"Net Total: ${net_total}\\n\")\n",
    "print(financial_analysis)\n",
    "                                                                                  "
   ]
  },
  {
   "cell_type": "code",
   "execution_count": null,
   "id": "2608f796-9e87-41a0-b45e-2eb25377f1f1",
   "metadata": {},
   "outputs": [],
   "source": []
  }
 ],
 "metadata": {
  "kernelspec": {
   "display_name": "Python 3 (ipykernel)",
   "language": "python",
   "name": "python3"
  },
  "language_info": {
   "codemirror_mode": {
    "name": "ipython",
    "version": 3
   },
   "file_extension": ".py",
   "mimetype": "text/x-python",
   "name": "python",
   "nbconvert_exporter": "python",
   "pygments_lexer": "ipython3",
   "version": "3.11.7"
  }
 },
 "nbformat": 4,
 "nbformat_minor": 5
}

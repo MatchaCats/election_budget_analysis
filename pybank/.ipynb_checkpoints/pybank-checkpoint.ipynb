{
 "cells": [
  {
   "cell_type": "code",
   "execution_count": 40,
   "id": "30baf903-b9ac-4b0a-9545-49dd92ee1e12",
   "metadata": {},
   "outputs": [
    {
     "name": "stdout",
     "output_type": "stream",
     "text": [
      "Header: ['Date', 'Profit/Losses']\n",
      "a\n",
      "r\n"
     ]
    }
   ],
   "source": [
    "\n",
    "# Import and Export\n",
    "\n",
    "import csv\n",
    "import os\n",
    "\n",
    "budget_csv = os.path.join(\".\", \"resources\", \"budget_data.csv\")\n",
    "\n",
    "analysis_output = os.path.join(\".\", \"budget_analysis.txt\")\n",
    "\n",
    "# Reading the csv file\n",
    "\n",
    "with open(budget_csv) as csv_file:\n",
    "\n",
    "    reader = csv.reader(csv_file,\"r\")\n",
    "\n",
    "    # Reading the header\n",
    "\n",
    "    csv_header = next(reader)\n",
    "    \n",
    "    print(f\"Header: {csv_header}\")\n",
    "\n",
    "    for row in csv_header:\n",
    "        print(row)\n",
    "      "
   ]
  },
  {
   "cell_type": "code",
   "execution_count": null,
   "id": "2608f796-9e87-41a0-b45e-2eb25377f1f1",
   "metadata": {},
   "outputs": [],
   "source": []
  }
 ],
 "metadata": {
  "kernelspec": {
   "display_name": "Python 3 (ipykernel)",
   "language": "python",
   "name": "python3"
  },
  "language_info": {
   "codemirror_mode": {
    "name": "ipython",
    "version": 3
   },
   "file_extension": ".py",
   "mimetype": "text/x-python",
   "name": "python",
   "nbconvert_exporter": "python",
   "pygments_lexer": "ipython3",
   "version": "3.11.7"
  }
 },
 "nbformat": 4,
 "nbformat_minor": 5
}

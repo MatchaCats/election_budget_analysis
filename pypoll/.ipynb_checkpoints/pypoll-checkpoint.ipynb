{
 "cells": [
  {
   "cell_type": "code",
   "execution_count": 16,
   "id": "c6e0fca6-0e3f-4ce5-9ec8-bb486aa20622",
   "metadata": {},
   "outputs": [
    {
     "name": "stdout",
     "output_type": "stream",
     "text": [
      "[]\n",
      "Election Results\n",
      "--------------------------------------\n",
      "Total Votes: 369711--------------------------------------\n",
      "\n"
     ]
    }
   ],
   "source": [
    "##Import and Export\n",
    "\n",
    "import csv\n",
    "import os\n",
    "\n",
    "election_csv = os.path.join(\".\", \"resources\", \"election_data.csv\")\n",
    "\n",
    "analysis_output = os.path.join(\".\", \"election_analysis.txt\")\n",
    "\n",
    "##Reading the csv file\n",
    "with open(election_csv) as csv_file:\n",
    "    csvreader = csv.reader(csv_file)\n",
    "\n",
    "    ##Skipping the header\n",
    "    header = next(csvreader)\n",
    "    #print(header)\n",
    "    \n",
    "    candidates_list = []\n",
    "    charles_list = []\n",
    "    diana_list = []\n",
    "    raymon_list = []\n",
    "\n",
    "    ##List to store individual candidate names\n",
    "    individual_candidates = []\n",
    "    \n",
    "    ##Starting point for the counter\n",
    "    total_votes = 0\n",
    "\n",
    "    for row in csvreader:\n",
    "        ##Number of total votes\n",
    "        total_votes += 1\n",
    "\n",
    "        ##Names of the candidates\n",
    "        candidates_voted = str(row[2])\n",
    "        #print(candidates_voted)\n",
    "\n",
    "        #Insert string values into a list\n",
    "        candidates_list.append(candidates_voted)\n",
    "        \n",
    "        if candidates_list == \"Charles Casper Stockham\":\n",
    "            charles_list.append(candidates_list)\n",
    "        elif candidates_list == \"Diana Degette\":\n",
    "            diana_list.append(candidates_list)\n",
    "        else: candidates_list == \"Raymon Anthony Doane\"\n",
    "        raymon_list.append(candidates_list)\n",
    "    \n",
    "           \n",
    "print(diana_list)         \n",
    "\n",
    "election_results = (f\"Election Results\\n\"\n",
    "f\"--------------------------------------\\n\"\n",
    "f\"Total Votes: {total_votes}\"\n",
    "f\"--------------------------------------\\n\"\n",
    ")\n",
    "print(election_results)"
   ]
  },
  {
   "cell_type": "code",
   "execution_count": null,
   "id": "2f30474b-8f83-4211-9f5f-4e05ef8cbfbc",
   "metadata": {},
   "outputs": [],
   "source": []
  }
 ],
 "metadata": {
  "kernelspec": {
   "display_name": "Python 3 (ipykernel)",
   "language": "python",
   "name": "python3"
  },
  "language_info": {
   "codemirror_mode": {
    "name": "ipython",
    "version": 3
   },
   "file_extension": ".py",
   "mimetype": "text/x-python",
   "name": "python",
   "nbconvert_exporter": "python",
   "pygments_lexer": "ipython3",
   "version": "3.11.7"
  }
 },
 "nbformat": 4,
 "nbformat_minor": 5
}
